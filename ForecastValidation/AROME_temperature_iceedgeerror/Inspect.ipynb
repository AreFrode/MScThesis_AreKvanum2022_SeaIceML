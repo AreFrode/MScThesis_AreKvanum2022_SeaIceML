{
 "cells": [
  {
   "cell_type": "code",
   "execution_count": 10,
   "metadata": {},
   "outputs": [],
   "source": [
    "import pandas as pd\n",
    "import numpy as np\n",
    "\n",
    "from matplotlib import pyplot as plt"
   ]
  },
  {
   "cell_type": "code",
   "execution_count": 17,
   "metadata": {},
   "outputs": [],
   "source": [
    "arome = pd.read_csv(\"/lustre/storeB/users/arefk/MScThesis_AreKvanum2022_SeaIceML/ForecastValidation/AROME_temperature_iceedgeerror/merged_df.csv\", index_col=0)\n",
    "ml = pd.read_csv(\"/lustre/storeB/users/arefk/MScThesis_AreKvanum2022_SeaIceML/ForecastValidation/lead_time_2/weights_21021550.csv\", index_col = 0)\n",
    "\n",
    "arome_rows = arome.reset_index()\n",
    "ml_rows = ml.reset_index()"
   ]
  },
  {
   "cell_type": "code",
   "execution_count": 16,
   "metadata": {},
   "outputs": [
    {
     "name": "stdout",
     "output_type": "stream",
     "text": [
      "date\n",
      "2022-06-01    180.989670\n",
      "2022-12-19    151.152524\n",
      "2022-07-27    144.827220\n",
      "2022-12-14    137.035590\n",
      "2022-05-30    136.505285\n",
      "Name: niiee, dtype: float64\n",
      "59     180.989670\n",
      "142    151.152524\n",
      "82     144.827220\n",
      "141    137.035590\n",
      "57     136.505285\n",
      "Name: niiee, dtype: float64\n",
      "date\n",
      "2022-10-26    32.855479\n",
      "2022-11-02    35.303534\n",
      "2022-10-25    36.178547\n",
      "2022-11-01    37.239811\n",
      "2022-11-16    37.520207\n",
      "Name: niiee, dtype: float64\n",
      "121    32.855479\n",
      "124    35.303534\n",
      "120    36.178547\n",
      "123    37.239811\n",
      "130    37.520207\n",
      "Name: niiee, dtype: float64\n"
     ]
    }
   ],
   "source": [
    "print(arome['niiee'].nlargest(n=5))\n",
    "print(arome_rows['niiee'].nlargest(n=5))\n",
    "print(arome['niiee'].nsmallest(n=5))\n",
    "print(arome_rows['niiee'].nsmallest(n=5))"
   ]
  },
  {
   "cell_type": "code",
   "execution_count": 18,
   "metadata": {},
   "outputs": [
    {
     "name": "stdout",
     "output_type": "stream",
     "text": [
      "date\n",
      "2022-03-16    50.813590\n",
      "2022-05-31    48.651870\n",
      "2022-05-25    46.785876\n",
      "2022-01-26    46.519982\n",
      "2022-03-21    45.663303\n",
      "Name: NIIEE_2, dtype: float64\n",
      "31    50.813590\n",
      "58    48.651870\n",
      "56    46.785876\n",
      "10    46.519982\n",
      "32    45.663303\n",
      "Name: NIIEE_2, dtype: float64\n",
      "date\n",
      "2022-10-12    13.070127\n",
      "2022-10-10    13.546410\n",
      "2022-10-11    14.235744\n",
      "2022-08-15    14.646463\n",
      "2022-11-09    14.739739\n",
      "Name: NIIEE_2, dtype: float64\n",
      "115    13.070127\n",
      "113    13.546410\n",
      "114    14.235744\n",
      "89     14.646463\n",
      "127    14.739739\n",
      "Name: NIIEE_2, dtype: float64\n"
     ]
    }
   ],
   "source": [
    "print(ml['NIIEE_2'].nlargest(n=5))\n",
    "print(ml_rows['NIIEE_2'].nlargest(n=5))\n",
    "print(ml['NIIEE_2'].nsmallest(n=5))\n",
    "print(ml_rows['NIIEE_2'].nsmallest(n=5))"
   ]
  },
  {
   "cell_type": "code",
   "execution_count": 4,
   "metadata": {},
   "outputs": [],
   "source": [
    "m, b = np.polyfit(arome['niiee'], ml['NIIEE_2'], 1)"
   ]
  },
  {
   "cell_type": "code",
   "execution_count": 5,
   "metadata": {},
   "outputs": [
    {
     "data": {
      "text/plain": [
       "[<matplotlib.lines.Line2D at 0x14682f0edb20>]"
      ]
     },
     "execution_count": 5,
     "metadata": {},
     "output_type": "execute_result"
    },
    {
     "data": {
      "image/png": "[encoded data removed]",
      "text/plain": [
       "<Figure size 432x288 with 1 Axes>"
      ]
     },
     "metadata": {
      "needs_background": "light"
     },
     "output_type": "display_data"
    }
   ],
   "source": [
    "plt.scatter(arome['niiee'], ml['NIIEE_2'])\n",
    "plt.xlabel('NIIEE (arome - ml)')\n",
    "plt.ylabel('NIIEE (ml - persistence)')\n",
    "plt.plot(arome, m*arome+b)"
   ]
  }
 ],
 "metadata": {
  "kernelspec": {
   "display_name": "Python 3",
   "language": "python",
   "name": "python3"
  },
  "language_info": {
   "codemirror_mode": {
    "name": "ipython",
    "version": 3
   },
   "file_extension": ".py",
   "mimetype": "text/x-python",
   "name": "python",
   "nbconvert_exporter": "python",
   "pygments_lexer": "ipython3",
   "version": "3.8.8"
  },
  "orig_nbformat": 4
 },
 "nbformat": 4,
 "nbformat_minor": 2
}

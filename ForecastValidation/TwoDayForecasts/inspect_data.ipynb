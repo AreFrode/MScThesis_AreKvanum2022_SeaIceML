{
 "cells": [
  {
   "cell_type": "code",
   "execution_count": 1,
   "metadata": {},
   "outputs": [
    {
     "name": "stderr",
     "output_type": "stream",
     "text": [
      "/usr/local/lib/python3.6/dist-packages/pandas/compat/_optional.py:107: UserWarning: Pandas requires version '1.2.1' or newer of 'bottleneck' (version '1.2.0' currently installed).\n",
      "  warnings.warn(msg, UserWarning)\n"
     ]
    }
   ],
   "source": [
    "import pandas as pd"
   ]
  },
  {
   "cell_type": "code",
   "execution_count": 3,
   "metadata": {},
   "outputs": [],
   "source": [
    "df_bench = pd.read_csv(\"/lustre/storeB/users/arefk/MScThesis_AreKvanum2022_SeaIceML/ForecastValidation/TwoDayForecasts/Data/unet_benchmark.csv\", index_col = 0)"
   ]
  },
  {
   "cell_type": "code",
   "execution_count": 4,
   "metadata": {},
   "outputs": [
    {
     "data": {
      "text/html": [
       "<div>\n",
       "<style scoped>\n",
       "    .dataframe tbody tr th:only-of-type {\n",
       "        vertical-align: middle;\n",
       "    }\n",
       "\n",
       "    .dataframe tbody tr th {\n",
       "        vertical-align: top;\n",
       "    }\n",
       "\n",
       "    .dataframe thead th {\n",
       "        text-align: right;\n",
       "    }\n",
       "</style>\n",
       "<table border=\"1\" class=\"dataframe\">\n",
       "  <thead>\n",
       "    <tr style=\"text-align: right;\">\n",
       "      <th></th>\n",
       "      <th>IIEE</th>\n",
       "      <th>a_plus</th>\n",
       "      <th>a_minus</th>\n",
       "      <th>target_area0</th>\n",
       "      <th>target_area1</th>\n",
       "      <th>target_area2</th>\n",
       "      <th>target_area3</th>\n",
       "      <th>target_area4</th>\n",
       "      <th>target_area5</th>\n",
       "      <th>target_area6</th>\n",
       "      <th>forecast_area0</th>\n",
       "      <th>forecast_area1</th>\n",
       "      <th>forecast_area2</th>\n",
       "      <th>forecast_area3</th>\n",
       "      <th>forecast_area4</th>\n",
       "      <th>forecast_area5</th>\n",
       "      <th>forecast_area6</th>\n",
       "    </tr>\n",
       "    <tr>\n",
       "      <th>date</th>\n",
       "      <th></th>\n",
       "      <th></th>\n",
       "      <th></th>\n",
       "      <th></th>\n",
       "      <th></th>\n",
       "      <th></th>\n",
       "      <th></th>\n",
       "      <th></th>\n",
       "      <th></th>\n",
       "      <th></th>\n",
       "      <th></th>\n",
       "      <th></th>\n",
       "      <th></th>\n",
       "      <th></th>\n",
       "      <th></th>\n",
       "      <th></th>\n",
       "      <th></th>\n",
       "    </tr>\n",
       "  </thead>\n",
       "  <tbody>\n",
       "    <tr>\n",
       "      <th>2021-01-06</th>\n",
       "      <td>250134</td>\n",
       "      <td>48545</td>\n",
       "      <td>201589</td>\n",
       "      <td>2051797.0</td>\n",
       "      <td>249944.0</td>\n",
       "      <td>196204.0</td>\n",
       "      <td>64143.0</td>\n",
       "      <td>180789.0</td>\n",
       "      <td>700031.0</td>\n",
       "      <td>89892.0</td>\n",
       "      <td>2286315.0</td>\n",
       "      <td>214511.0</td>\n",
       "      <td>87556.0</td>\n",
       "      <td>55287.0</td>\n",
       "      <td>139398.0</td>\n",
       "      <td>701770.0</td>\n",
       "      <td>47963.0</td>\n",
       "    </tr>\n",
       "  </tbody>\n",
       "</table>\n",
       "</div>"
      ],
      "text/plain": [
       "              IIEE  a_plus  a_minus  target_area0  target_area1  target_area2  \\\n",
       "date                                                                            \n",
       "2021-01-06  250134   48545   201589     2051797.0      249944.0      196204.0   \n",
       "\n",
       "            target_area3  target_area4  target_area5  target_area6  \\\n",
       "date                                                                 \n",
       "2021-01-06       64143.0      180789.0      700031.0       89892.0   \n",
       "\n",
       "            forecast_area0  forecast_area1  forecast_area2  forecast_area3  \\\n",
       "date                                                                         \n",
       "2021-01-06       2286315.0        214511.0         87556.0         55287.0   \n",
       "\n",
       "            forecast_area4  forecast_area5  forecast_area6  \n",
       "date                                                        \n",
       "2021-01-06        139398.0        701770.0         47963.0  "
      ]
     },
     "execution_count": 4,
     "metadata": {},
     "output_type": "execute_result"
    }
   ],
   "source": [
    "df_bench"
   ]
  },
  {
   "cell_type": "code",
   "execution_count": null,
   "metadata": {},
   "outputs": [],
   "source": [
    "df_512 = pd.read_csv(\"/lustre/storeB/users/arefk/MScThesis_AreKvanum2022_SeaIceML/ForecastValidation/TwoDayForecasts/Data/unet_512.csv\", index_col = 0)\n",
    "df_512_focal = pd.read_csv(\"/lustre/storeB/users/arefk/MScThesis_AreKvanum2022_SeaIceML/ForecastValidation/TwoDayForecasts/Data/unet_512_focal.csv\", index_col = 0)"
   ]
  },
  {
   "cell_type": "code",
   "execution_count": null,
   "metadata": {},
   "outputs": [],
   "source": [
    "df_512"
   ]
  },
  {
   "cell_type": "code",
   "execution_count": null,
   "metadata": {},
   "outputs": [],
   "source": [
    "df_512_focal"
   ]
  },
  {
   "cell_type": "code",
   "execution_count": null,
   "metadata": {},
   "outputs": [],
   "source": [
    "df_512.hist('IIEE')"
   ]
  },
  {
   "cell_type": "code",
   "execution_count": null,
   "metadata": {},
   "outputs": [],
   "source": [
    "df_512_focal.hist('IIEE')"
   ]
  },
  {
   "cell_type": "code",
   "execution_count": null,
   "metadata": {},
   "outputs": [],
   "source": [
    "monthly_mean_512 = df_512.groupby(pd.PeriodIndex(df_512.index, freq=\"M\"))['IIEE'].mean()\n",
    "monthly_mean_512_focal = df_512_focal.groupby(pd.PeriodIndex(df_512_focal.index, freq=\"M\"))['IIEE'].mean()"
   ]
  },
  {
   "cell_type": "code",
   "execution_count": null,
   "metadata": {},
   "outputs": [],
   "source": [
    "ax = monthly_mean_512.plot(label='Crossentropy Loss')\n",
    "ax.set_title('IIEE for 512 model')\n",
    "ax.set_ylabel('IIEE')\n",
    "monthly_mean_512_focal.plot(ax=ax, color='red', label=\"Focal Loss\")\n",
    "fig = ax.get_figure()\n",
    "fig.legend()"
   ]
  }
 ],
 "metadata": {
  "kernelspec": {
   "display_name": "Python 3.6.9 64-bit",
   "language": "python",
   "name": "python3"
  },
  "language_info": {
   "codemirror_mode": {
    "name": "ipython",
    "version": 3
   },
   "file_extension": ".py",
   "mimetype": "text/x-python",
   "name": "python",
   "nbconvert_exporter": "python",
   "pygments_lexer": "ipython3",
   "version": "3.6.9"
  },
  "orig_nbformat": 4,
  "vscode": {
   "interpreter": {
    "hash": "31f2aee4e71d21fbe5cf8b01ff0e069b9275f58929596ceb00d14d90e3e16cd6"
   }
  }
 },
 "nbformat": 4,
 "nbformat_minor": 2
}

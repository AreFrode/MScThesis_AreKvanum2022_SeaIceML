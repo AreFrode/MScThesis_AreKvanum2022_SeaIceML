{
 "cells": [
  {
   "cell_type": "code",
   "execution_count": null,
   "metadata": {},
   "outputs": [
    {
     "ename": "",
     "evalue": "",
     "output_type": "error",
     "traceback": [
      "\u001b[1;31mFailed to start the Kernel. \n",
      "\u001b[1;31mView Jupyter <a href='command:jupyter.viewOutput'>log</a> for further details."
     ]
    }
   ],
   "source": [
    "import pandas as pd\n",
    "\n",
    "# from seaborn import apionly as sns\n",
    "from matplotlib import pyplot as plt\n",
    "import matplotlib"
   ]
  },
  {
   "cell_type": "markdown",
   "metadata": {},
   "source": [
    "Difficult to start notebook, current val_loss / norm_iiee corr = 0.8218671447221332"
   ]
  },
  {
   "cell_type": "code",
   "execution_count": 2,
   "metadata": {},
   "outputs": [],
   "source": [
    "df_training_log = pd.read_csv(\"/lustre/storeB/users/arefk/MScThesis_AreKvanum2022_SeaIceML/SimpleUNET/TwoDayForecast/outputs/histories/weights_04121953.log\")"
   ]
  },
  {
   "cell_type": "code",
   "execution_count": 3,
   "metadata": {},
   "outputs": [
    {
     "data": {
      "text/html": [
       "<div>\n",
       "<style scoped>\n",
       "    .dataframe tbody tr th:only-of-type {\n",
       "        vertical-align: middle;\n",
       "    }\n",
       "\n",
       "    .dataframe tbody tr th {\n",
       "        vertical-align: top;\n",
       "    }\n",
       "\n",
       "    .dataframe thead th {\n",
       "        text-align: right;\n",
       "    }\n",
       "</style>\n",
       "<table border=\"1\" class=\"dataframe\">\n",
       "  <thead>\n",
       "    <tr style=\"text-align: right;\">\n",
       "      <th></th>\n",
       "      <th>val_loss</th>\n",
       "      <th>val_norm_iiee</th>\n",
       "    </tr>\n",
       "  </thead>\n",
       "  <tbody>\n",
       "    <tr>\n",
       "      <th>0</th>\n",
       "      <td>0.571616</td>\n",
       "      <td>41.222080</td>\n",
       "    </tr>\n",
       "    <tr>\n",
       "      <th>1</th>\n",
       "      <td>0.467734</td>\n",
       "      <td>40.496263</td>\n",
       "    </tr>\n",
       "    <tr>\n",
       "      <th>2</th>\n",
       "      <td>0.433732</td>\n",
       "      <td>38.966427</td>\n",
       "    </tr>\n",
       "    <tr>\n",
       "      <th>3</th>\n",
       "      <td>0.408893</td>\n",
       "      <td>36.253414</td>\n",
       "    </tr>\n",
       "    <tr>\n",
       "      <th>4</th>\n",
       "      <td>0.399980</td>\n",
       "      <td>35.568378</td>\n",
       "    </tr>\n",
       "    <tr>\n",
       "      <th>5</th>\n",
       "      <td>0.404394</td>\n",
       "      <td>34.807919</td>\n",
       "    </tr>\n",
       "    <tr>\n",
       "      <th>6</th>\n",
       "      <td>0.385585</td>\n",
       "      <td>35.419113</td>\n",
       "    </tr>\n",
       "    <tr>\n",
       "      <th>7</th>\n",
       "      <td>0.376256</td>\n",
       "      <td>34.867612</td>\n",
       "    </tr>\n",
       "    <tr>\n",
       "      <th>8</th>\n",
       "      <td>0.417667</td>\n",
       "      <td>34.067079</td>\n",
       "    </tr>\n",
       "    <tr>\n",
       "      <th>9</th>\n",
       "      <td>0.406344</td>\n",
       "      <td>33.569710</td>\n",
       "    </tr>\n",
       "  </tbody>\n",
       "</table>\n",
       "</div>"
      ],
      "text/plain": [
       "   val_loss  val_norm_iiee\n",
       "0  0.571616      41.222080\n",
       "1  0.467734      40.496263\n",
       "2  0.433732      38.966427\n",
       "3  0.408893      36.253414\n",
       "4  0.399980      35.568378\n",
       "5  0.404394      34.807919\n",
       "6  0.385585      35.419113\n",
       "7  0.376256      34.867612\n",
       "8  0.417667      34.067079\n",
       "9  0.406344      33.569710"
      ]
     },
     "execution_count": 3,
     "metadata": {},
     "output_type": "execute_result"
    }
   ],
   "source": [
    "df_training_log[['val_loss', 'val_norm_iiee']]"
   ]
  },
  {
   "cell_type": "code",
   "execution_count": 35,
   "metadata": {},
   "outputs": [
    {
     "name": "stdout",
     "output_type": "stream",
     "text": [
      "Using matplotlib backend: <object object at 0x7f08c38a2780>\n"
     ]
    },
    {
     "name": "stderr",
     "output_type": "stream",
     "text": [
      "libGL error: MESA-LOADER: failed to open swrast: /usr/lib64/dri/swrast_dri.so: cannot open shared object file: No such file or directory (search paths /usr/lib64/dri)\n",
      "libGL error: failed to load driver: swrast\n"
     ]
    }
   ],
   "source": [
    "plt.style.use('seaborn-paper')\n",
    "ax = df_training_log['val_loss'].plot(label = 'validation loss')\n",
    "ax2 = ax.twinx()\n",
    "lns = df_training_log['val_norm_iiee'].plot(ax = ax2, label = 'validation IIEE', color='orange')\n",
    "handles, labels = [(a + b) for a, b in zip(ax.get_legend_handles_labels(), ax2.get_legend_handles_labels())]\n",
    "plt.legend(handles, labels)\n",
    "plt.savefig('/lustre/storeB/users/arefk/MScThesis_AreKvanum2022_SeaIceML/ForecastValidation/TwoDayForecasts/figures/val_loss_IIEE.png')"
   ]
  },
  {
   "cell_type": "code",
   "execution_count": 28,
   "metadata": {},
   "outputs": [
    {
     "data": {
      "text/plain": [
       "0.8218671447221332"
      ]
     },
     "execution_count": 28,
     "metadata": {},
     "output_type": "execute_result"
    }
   ],
   "source": [
    "df_training_log['val_loss'].corr(df_training_log['val_norm_iiee'])"
   ]
  },
  {
   "cell_type": "code",
   "execution_count": null,
   "metadata": {},
   "outputs": [],
   "source": [
    "df_forecast = pd.read_csv(\"/lustre/storeB/users/arefk/MScThesis_AreKvanum2022_SeaIceML/ForecastValidation/TwoDayForecasts/Data/weights_05111353.csv\", index_col = 0)\n",
    "df_bench = pd.read_csv(\"/lustre/storeB/users/arefk/MScThesis_AreKvanum2022_SeaIceML/ForecastValidation/TwoDayForecasts/Data/weights_04111245.csv\", index_col = 0)\n",
    "df_pers = pd.read_csv(\"/lustre/storeB/users/arefk/MScThesis_AreKvanum2022_SeaIceML/ForecastValidation/TwoDayForecasts/Data/persistance.csv\", index_col = 0)"
   ]
  },
  {
   "cell_type": "code",
   "execution_count": null,
   "metadata": {},
   "outputs": [],
   "source": [
    "climatological_ice_edge = pd.read_csv(\"/lustre/storeB/users/arefk/MScThesis_AreKvanum2022_SeaIceML/verification_metrics/Data/climatological_ice_edge.csv\", index_col=0)\n",
    "climatological_ice_edge = climatological_ice_edge.drop('02-29')\n",
    "climatological_ice_edge.index = '2021-' + climatological_ice_edge.index\n",
    "climatological_ice_edge.set_index(pd.DatetimeIndex(pd.to_datetime(climatological_ice_edge.index)))\n",
    "climatological_ice_edge['ice_edge_length'] = climatological_ice_edge['ice_edge_length'] / 1000."
   ]
  },
  {
   "cell_type": "code",
   "execution_count": null,
   "metadata": {},
   "outputs": [],
   "source": [
    "df_forecast['climatological_length'] = climatological_ice_edge\n",
    "df_forecast['target_length'] = df_bench['target_length'] / 1000.\n",
    "df_bench['climatological_length'] = climatological_ice_edge\n",
    "\n",
    "df_pers['climatological_length'] = climatological_ice_edge"
   ]
  },
  {
   "cell_type": "code",
   "execution_count": null,
   "metadata": {},
   "outputs": [],
   "source": [
    "df_forecast"
   ]
  },
  {
   "cell_type": "code",
   "execution_count": null,
   "metadata": {},
   "outputs": [],
   "source": [
    "df_bench"
   ]
  },
  {
   "cell_type": "code",
   "execution_count": null,
   "metadata": {},
   "outputs": [],
   "source": [
    "df_pers"
   ]
  },
  {
   "cell_type": "code",
   "execution_count": null,
   "metadata": {},
   "outputs": [],
   "source": [
    "df_bench['IIEE'].nlargest(n=5)"
   ]
  },
  {
   "cell_type": "code",
   "execution_count": null,
   "metadata": {},
   "outputs": [],
   "source": [
    "df_forecast['IIEE'].nlargest(n=5)"
   ]
  },
  {
   "cell_type": "code",
   "execution_count": null,
   "metadata": {},
   "outputs": [],
   "source": [
    "df_pers['IIEE'].nlargest(n=5)"
   ]
  },
  {
   "cell_type": "code",
   "execution_count": null,
   "metadata": {},
   "outputs": [],
   "source": [
    "monthly_mean_bench = df_bench.groupby(pd.PeriodIndex(df_bench.index, freq=\"M\")).mean()\n",
    "monthly_mean_forecast = df_forecast.groupby(pd.PeriodIndex(df_forecast.index, freq=\"M\")).mean()\n",
    "monthly_mean_pers = df_pers.groupby(pd.PeriodIndex(df_pers.index, freq=\"M\")).mean()"
   ]
  },
  {
   "cell_type": "code",
   "execution_count": null,
   "metadata": {},
   "outputs": [],
   "source": [
    "monthly_mean_forecast"
   ]
  },
  {
   "cell_type": "code",
   "execution_count": null,
   "metadata": {},
   "outputs": [],
   "source": [
    "def plot_area(df, num_classes=7):\n",
    "    for i in range(num_classes):\n",
    "        ax = df[f'target_area{i}'].plot(label='target')\n",
    "        df[f'forecast_area{i}'].plot(ax=ax, label='forecast')\n",
    "        ax.set_title(f'SIC area for concenration class {i}')\n",
    "        plt.legend()\n",
    "        plt.show()"
   ]
  },
  {
   "cell_type": "code",
   "execution_count": null,
   "metadata": {},
   "outputs": [],
   "source": [
    "plot_area(monthly_mean_bench)"
   ]
  },
  {
   "cell_type": "code",
   "execution_count": null,
   "metadata": {},
   "outputs": [],
   "source": [
    "plot_area(monthly_mean_forecast)"
   ]
  },
  {
   "cell_type": "code",
   "execution_count": null,
   "metadata": {},
   "outputs": [],
   "source": [
    "plot_area(monthly_mean_pers)"
   ]
  },
  {
   "cell_type": "code",
   "execution_count": null,
   "metadata": {},
   "outputs": [],
   "source": [
    "ax = monthly_mean_bench['target_length'].plot(label='target')\n",
    "monthly_mean_bench['forecast_length'].plot(ax = ax, label = 'forecast', color='orange')\n",
    "plt.legend()\n",
    "plt.show()"
   ]
  },
  {
   "cell_type": "code",
   "execution_count": null,
   "metadata": {},
   "outputs": [],
   "source": [
    "ax = monthly_mean_forecast['target_length'].plot()\n",
    "monthly_mean_forecast['climatological_length'].plot(ax = ax)\n",
    "plt.show()"
   ]
  },
  {
   "cell_type": "code",
   "execution_count": null,
   "metadata": {},
   "outputs": [],
   "source": [
    "ax = monthly_mean_forecast['target_length'].plot()\n",
    "monthly_mean_forecast['forecast_length'].plot(ax = ax)\n",
    "plt.show()"
   ]
  },
  {
   "cell_type": "code",
   "execution_count": null,
   "metadata": {},
   "outputs": [],
   "source": [
    "ax = monthly_mean_pers['target_length'].plot()\n",
    "monthly_mean_pers['forecast_length'].plot(ax = ax)\n",
    "plt.show()"
   ]
  },
  {
   "cell_type": "code",
   "execution_count": null,
   "metadata": {},
   "outputs": [],
   "source": [
    "ax = (monthly_mean_bench['target_length'] - monthly_mean_bench['forecast_length']).plot(label = 'Model')\n",
    "(monthly_mean_pers['target_length'] - monthly_mean_pers['forecast_length']).plot(ax = ax, label = 'Persistance')\n",
    "(monthly_mean_forecast['target_length'] - monthly_mean_forecast['forecast_length']).plot(ax = ax, label = 'Forecast')\n",
    "plt.legend()\n",
    "plt.show()"
   ]
  },
  {
   "cell_type": "code",
   "execution_count": null,
   "metadata": {},
   "outputs": [],
   "source": [
    "ax = monthly_mean_bench['IIEE'].plot(label = 'OLD Benchmark model')\n",
    "monthly_mean_pers['IIEE'].plot(ax = ax, label = 'Persistance')\n",
    "monthly_mean_forecast['IIEE'].plot(ax = ax, label = 'Forecast')\n",
    "plt.legend()\n",
    "plt.show()"
   ]
  },
  {
   "cell_type": "code",
   "execution_count": null,
   "metadata": {},
   "outputs": [],
   "source": [
    "ax = (monthly_mean_bench['IIEE'] / monthly_mean_bench['climatological_length']).plot(label = 'OLD Benchmark model')\n",
    "(monthly_mean_pers['IIEE'] / monthly_mean_pers['climatological_length']).plot(ax = ax, label = 'Persistance')\n",
    "(monthly_mean_forecast['IIEE'] / monthly_mean_forecast['climatological_length']).plot(ax = ax, label = 'Forecast')\n",
    "plt.legend()\n",
    "plt.show()"
   ]
  },
  {
   "cell_type": "code",
   "execution_count": null,
   "metadata": {},
   "outputs": [],
   "source": [
    "df_pers.keys"
   ]
  },
  {
   "cell_type": "code",
   "execution_count": null,
   "metadata": {},
   "outputs": [],
   "source": [
    "ax = sns.heatmap(monthly_mean_pers, square=True)"
   ]
  },
  {
   "cell_type": "code",
   "execution_count": null,
   "metadata": {},
   "outputs": [],
   "source": [
    "piv"
   ]
  },
  {
   "cell_type": "code",
   "execution_count": null,
   "metadata": {},
   "outputs": [],
   "source": [
    "df_512 = pd.read_csv(\"/lustre/storeB/users/arefk/MScThesis_AreKvanum2022_SeaIceML/ForecastValidation/TwoDayForecasts/Data/unet_512.csv\", index_col = 0)\n",
    "df_512_focal = pd.read_csv(\"/lustre/storeB/users/arefk/MScThesis_AreKvanum2022_SeaIceML/ForecastValidation/TwoDayForecasts/Data/unet_512_focal.csv\", index_col = 0)"
   ]
  },
  {
   "cell_type": "code",
   "execution_count": null,
   "metadata": {},
   "outputs": [],
   "source": [
    "df_512"
   ]
  },
  {
   "cell_type": "code",
   "execution_count": null,
   "metadata": {},
   "outputs": [],
   "source": [
    "df_512_focal"
   ]
  },
  {
   "cell_type": "code",
   "execution_count": null,
   "metadata": {},
   "outputs": [],
   "source": [
    "df_512.hist('IIEE')"
   ]
  },
  {
   "cell_type": "code",
   "execution_count": null,
   "metadata": {},
   "outputs": [],
   "source": [
    "df_512_focal.hist('IIEE')"
   ]
  },
  {
   "cell_type": "code",
   "execution_count": null,
   "metadata": {},
   "outputs": [],
   "source": [
    "monthly_mean_512 = df_512.groupby(pd.PeriodIndex(df_512.index, freq=\"M\"))['IIEE'].mean()\n",
    "monthly_mean_512_focal = df_512_focal.groupby(pd.PeriodIndex(df_512_focal.index, freq=\"M\"))['IIEE'].mean()"
   ]
  },
  {
   "cell_type": "code",
   "execution_count": null,
   "metadata": {},
   "outputs": [],
   "source": [
    "ax = monthly_mean_512.plot(label='Crossentropy Loss')\n",
    "ax.set_title('IIEE for 512 model')\n",
    "ax.set_ylabel('IIEE')\n",
    "monthly_mean_512_focal.plot(ax=ax, color='red', label=\"Focal Loss\")\n",
    "fig = ax.get_figure()\n",
    "fig.legend()"
   ]
  }
 ],
 "metadata": {
  "kernelspec": {
   "display_name": "Python 3",
   "language": "python",
   "name": "python3"
  },
  "language_info": {
   "name": "python",
   "version": "2.7.18 (default, Jun 17 2022, 07:56:00) \n[GCC 8.5.0 20210514 (Red Hat 8.5.0-13)]"
  },
  "orig_nbformat": 4,
  "vscode": {
   "interpreter": {
    "hash": "f92b2924b84ff19c1c3dc485f7644d4486f64738191026bf8e6de303969141b5"
   }
  }
 },
 "nbformat": 4,
 "nbformat_minor": 2
}

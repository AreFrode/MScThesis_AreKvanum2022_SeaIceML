{
 "cells": [
  {
   "cell_type": "code",
   "execution_count": 9,
   "metadata": {},
   "outputs": [],
   "source": [
    "import pandas as pd\n",
    "\n",
    "# from seaborn import apionly as sns\n",
    "from matplotlib import pyplot as plt\n",
    "import matplotlib"
   ]
  },
  {
   "cell_type": "code",
   "execution_count": 10,
   "metadata": {},
   "outputs": [],
   "source": [
    "persistence = pd.read_csv(\"/lustre/storeB/users/arefk/MScThesis_AreKvanum2022_SeaIceML/ForecastValidation/lead_time_2/persistence.csv\", index_col = 0)\n",
    "model1 = pd.read_csv(\"/lustre/storeB/users/arefk/MScThesis_AreKvanum2022_SeaIceML/ForecastValidation/lead_time_2/weights_21021550.csv\", index_col = 0)\n",
    "no_sic = pd.read_csv(\"/lustre/storeB/users/arefk/MScThesis_AreKvanum2022_SeaIceML/ForecastValidation/lead_time_2/weights_07031244.csv\", index_col = 0)\n",
    "linear = pd.read_csv(\"/lustre/storeB/users/arefk/MScThesis_AreKvanum2022_SeaIceML/ForecastValidation/lead_time_2/weights_07031702.csv\", index_col = 0)"
   ]
  },
  {
   "cell_type": "code",
   "execution_count": 16,
   "metadata": {},
   "outputs": [
    {
     "data": {
      "text/plain": [
       "date\n",
       "2022-01-24    73.197815\n",
       "2022-03-23    65.014868\n",
       "2022-01-26    64.239345\n",
       "2022-01-25    61.510726\n",
       "2022-03-22    59.616228\n",
       "2022-12-05    59.078724\n",
       "2022-05-25    59.050743\n",
       "2022-03-09    58.473774\n",
       "2022-12-28    58.308081\n",
       "2022-06-20    57.644444\n",
       "Name: NIIEE_2, dtype: float64"
      ]
     },
     "execution_count": 16,
     "metadata": {},
     "output_type": "execute_result"
    }
   ],
   "source": [
    "persistence['NIIEE_2'].nlargest(n=10)"
   ]
  },
  {
   "cell_type": "code",
   "execution_count": 17,
   "metadata": {},
   "outputs": [
    {
     "data": {
      "text/plain": [
       "date\n",
       "2022-03-16    50.813590\n",
       "2022-05-31    48.651870\n",
       "2022-05-25    46.785876\n",
       "2022-01-26    46.519982\n",
       "2022-03-21    45.663303\n",
       "2022-02-15    45.653936\n",
       "2022-03-22    45.320207\n",
       "2022-05-30    44.845639\n",
       "2022-02-16    43.753620\n",
       "2022-06-20    42.993656\n",
       "Name: NIIEE_2, dtype: float64"
      ]
     },
     "execution_count": 17,
     "metadata": {},
     "output_type": "execute_result"
    }
   ],
   "source": [
    "model1['NIIEE_2'].nlargest(n=10)"
   ]
  },
  {
   "cell_type": "code",
   "execution_count": 18,
   "metadata": {},
   "outputs": [
    {
     "data": {
      "text/plain": [
       "date\n",
       "2022-06-15    315.911050\n",
       "2022-09-05    248.392173\n",
       "2022-06-21    207.845368\n",
       "2022-06-14    194.943533\n",
       "2022-05-30    182.678224\n",
       "2022-06-20    166.585333\n",
       "2022-05-31    162.942288\n",
       "2022-06-22    156.341525\n",
       "2022-06-29    153.511504\n",
       "2022-06-13    149.793177\n",
       "Name: NIIEE_2, dtype: float64"
      ]
     },
     "execution_count": 18,
     "metadata": {},
     "output_type": "execute_result"
    }
   ],
   "source": [
    "no_sic['NIIEE_2'].nlargest(n=10)"
   ]
  },
  {
   "cell_type": "code",
   "execution_count": 19,
   "metadata": {},
   "outputs": [
    {
     "data": {
      "text/plain": [
       "date\n",
       "2022-09-21    120.062223\n",
       "2022-12-27     81.631907\n",
       "2022-05-30     79.143864\n",
       "2022-08-23     75.922151\n",
       "2022-08-24     73.294347\n",
       "2022-03-16     72.751846\n",
       "2022-05-31     72.265013\n",
       "2022-02-15     72.153498\n",
       "2022-01-24     71.571037\n",
       "2022-09-20     68.837320\n",
       "Name: NIIEE_2, dtype: float64"
      ]
     },
     "execution_count": 19,
     "metadata": {},
     "output_type": "execute_result"
    }
   ],
   "source": [
    "linear['NIIEE_2'].nlargest(10)"
   ]
  },
  {
   "cell_type": "code",
   "execution_count": null,
   "metadata": {},
   "outputs": [],
   "source": []
  },
  {
   "cell_type": "code",
   "execution_count": null,
   "metadata": {},
   "outputs": [],
   "source": []
  },
  {
   "cell_type": "code",
   "execution_count": 17,
   "metadata": {},
   "outputs": [
    {
     "data": {
      "text/plain": [
       "58.4737742989407"
      ]
     },
     "execution_count": 17,
     "metadata": {},
     "output_type": "execute_result"
    }
   ],
   "source": [
    "persistence['NIIEE_2'].loc['2022-03-09']"
   ]
  },
  {
   "cell_type": "code",
   "execution_count": 4,
   "metadata": {},
   "outputs": [
    {
     "data": {
      "text/plain": [
       "34.906242663118725"
      ]
     },
     "execution_count": 4,
     "metadata": {},
     "output_type": "execute_result"
    }
   ],
   "source": [
    "persistence['NIIEE_2'].mean()"
   ]
  },
  {
   "cell_type": "code",
   "execution_count": 16,
   "metadata": {},
   "outputs": [
    {
     "data": {
      "text/plain": [
       "31.673502014451085"
      ]
     },
     "execution_count": 16,
     "metadata": {},
     "output_type": "execute_result"
    }
   ],
   "source": [
    "model1['NIIEE_2'].loc['2022-03-09']"
   ]
  },
  {
   "cell_type": "code",
   "execution_count": 7,
   "metadata": {},
   "outputs": [
    {
     "data": {
      "text/plain": [
       "28.194607339350515"
      ]
     },
     "execution_count": 7,
     "metadata": {},
     "output_type": "execute_result"
    }
   ],
   "source": [
    "model1['NIIEE_2'].mean()"
   ]
  },
  {
   "attachments": {},
   "cell_type": "markdown",
   "metadata": {},
   "source": [
    "#### Find largest difference between model and persistence NIIEE_2 "
   ]
  },
  {
   "cell_type": "code",
   "execution_count": 12,
   "metadata": {},
   "outputs": [
    {
     "data": {
      "text/plain": [
       "date\n",
       "2022-01-24    32.534361\n",
       "2022-03-23    28.461183\n",
       "2022-03-09    26.800272\n",
       "2022-01-25    26.781096\n",
       "2022-12-28    24.628811\n",
       "                ...    \n",
       "2022-07-27    -5.812718\n",
       "2022-08-08    -6.768040\n",
       "2022-09-13    -6.873312\n",
       "2022-09-28    -7.549630\n",
       "2022-11-16    -7.739710\n",
       "Name: NIIEE_2, Length: 147, dtype: float64"
      ]
     },
     "execution_count": 12,
     "metadata": {},
     "output_type": "execute_result"
    }
   ],
   "source": [
    "(persistence['NIIEE_2'] - model1['NIIEE_2']).sort_values(ascending=False)"
   ]
  },
  {
   "cell_type": "markdown",
   "metadata": {},
   "source": [
    "Difficult to start notebook, current val_loss / norm_iiee corr = 0.8218671447221332"
   ]
  },
  {
   "cell_type": "code",
   "execution_count": 2,
   "metadata": {},
   "outputs": [],
   "source": [
    "persistence = pd.read_csv(\"/lustre/storeB/users/arefk/MScThesis_AreKvanum2022_SeaIceML/ForecastValidation/TwoDayForecasts/Data/persistance.csv\", index_col = 0)\n",
    "model = pd.read_csv(\"/lustre/storeB/users/arefk/MScThesis_AreKvanum2022_SeaIceML/ForecastValidation/lead_time_2/osisaf_trend_5/weights_05011118.csv\", index_col = 0)\n",
    "model_reduced = pd.read_csv(\"/lustre/storeB/users/arefk/MScThesis_AreKvanum2022_SeaIceML/ForecastValidation/lead_time_2/weights_05021610.csv\", index_col = 0)"
   ]
  },
  {
   "attachments": {},
   "cell_type": "markdown",
   "metadata": {},
   "source": [
    "# IIEE / forecasr length"
   ]
  },
  {
   "cell_type": "code",
   "execution_count": 3,
   "metadata": {},
   "outputs": [
    {
     "name": "stdout",
     "output_type": "stream",
     "text": [
      "0.8388828893790844\n"
     ]
    }
   ],
   "source": [
    "IIEE = model['IIEE']\n",
    "forecast_length = model['forecast_length']\n",
    "print(IIEE.corr(forecast_length))"
   ]
  },
  {
   "cell_type": "code",
   "execution_count": 4,
   "metadata": {},
   "outputs": [
    {
     "data": {
      "text/plain": [
       "<AxesSubplot:xlabel='date'>"
      ]
     },
     "execution_count": 4,
     "metadata": {},
     "output_type": "execute_result"
    },
    {
     "ename": "",
     "evalue": "",
     "output_type": "error",
     "traceback": [
      "\u001b[1;31mThe Kernel crashed while executing code in the the current cell or a previous cell. Please review the code in the cell(s) to identify a possible cause of the failure. Click <a href='https://aka.ms/vscodeJupyterKernelCrash'>here</a> for more info. View Jupyter <a href='command:jupyter.viewOutput'>log</a> for further details."
     ]
    },
    {
     "ename": "",
     "evalue": "",
     "output_type": "error",
     "traceback": [
      "\u001b[1;31mCanceled future for execute_request message before replies were done"
     ]
    }
   ],
   "source": [
    "fig = plt.figure(figsize = (12,8))\n",
    "ax = IIEE.plot()\n",
    "ax2 = ax.twinx()\n",
    "forecast_length.plot(ax = ax2)"
   ]
  },
  {
   "cell_type": "code",
   "execution_count": null,
   "metadata": {},
   "outputs": [],
   "source": []
  },
  {
   "cell_type": "code",
   "execution_count": 59,
   "metadata": {},
   "outputs": [],
   "source": [
    "climatological_ice_edge = pd.read_csv(\"/lustre/storeB/users/arefk/MScThesis_AreKvanum2022_SeaIceML/verification_metrics/Data/climatological_ice_edge.csv\", index_col=0)\n",
    "climatological_ice_edge = climatological_ice_edge.drop('02-29')\n",
    "climatological_ice_edge.index = '2022-' + climatological_ice_edge.index\n",
    "climatological_ice_edge.set_index(pd.DatetimeIndex(pd.to_datetime(climatological_ice_edge.index)))\n",
    "climatological_ice_edge['ice_edge_length'] = climatological_ice_edge['ice_edge_length'] / 1000."
   ]
  },
  {
   "cell_type": "code",
   "execution_count": 60,
   "metadata": {},
   "outputs": [],
   "source": [
    "persistence['NIIEE'] = persistence['IIEE'] / climatological_ice_edge['ice_edge_length']\n",
    "model['NIIEE'] = (model['IIEE'] / climatological_ice_edge['ice_edge_length'])"
   ]
  },
  {
   "cell_type": "code",
   "execution_count": 61,
   "metadata": {},
   "outputs": [
    {
     "data": {
      "text/plain": [
       "date\n",
       "2022-01-26    73.197815\n",
       "2022-03-25    65.014868\n",
       "2022-01-28    64.239345\n",
       "2022-01-27    61.510726\n",
       "2022-03-24    59.616228\n",
       "Name: NIIEE, dtype: float64"
      ]
     },
     "execution_count": 61,
     "metadata": {},
     "output_type": "execute_result"
    }
   ],
   "source": [
    "persistence['NIIEE'].nlargest(n=5)"
   ]
  },
  {
   "cell_type": "code",
   "execution_count": 62,
   "metadata": {},
   "outputs": [
    {
     "data": {
      "text/plain": [
       "date\n",
       "2022-06-02    51.800098\n",
       "2022-03-18    50.982957\n",
       "2022-02-17    50.563755\n",
       "2022-05-27    50.243868\n",
       "2022-01-28    49.830163\n",
       "Name: NIIEE, dtype: float64"
      ]
     },
     "execution_count": 62,
     "metadata": {},
     "output_type": "execute_result"
    }
   ],
   "source": [
    "model['NIIEE'].nlargest(n=5)"
   ]
  },
  {
   "cell_type": "code",
   "execution_count": 63,
   "metadata": {},
   "outputs": [
    {
     "data": {
      "text/plain": [
       "date\n",
       "2022-10-27    12.098398\n",
       "2022-10-28    12.731690\n",
       "2022-10-26    12.963203\n",
       "2022-11-04    13.746415\n",
       "2022-10-19    14.274347\n",
       "Name: NIIEE, dtype: float64"
      ]
     },
     "execution_count": 63,
     "metadata": {},
     "output_type": "execute_result"
    }
   ],
   "source": [
    "model['NIIEE'].nsmallest(n=5)"
   ]
  },
  {
   "cell_type": "code",
   "execution_count": 64,
   "metadata": {},
   "outputs": [
    {
     "name": "stdout",
     "output_type": "stream",
     "text": [
      "111\n",
      "(125,)\n",
      "-7.0606361863150315\n",
      "0.8183802252891188\n"
     ]
    }
   ],
   "source": [
    "print((model['NIIEE'] < persistence['NIIEE']).sum())\n",
    "print(model['NIIEE'].shape)\n",
    "\n",
    "print((model['NIIEE'] - persistence['NIIEE']).mean())\n",
    "print((model['NIIEE'] / persistence['NIIEE']).mean())"
   ]
  },
  {
   "cell_type": "code",
   "execution_count": 2,
   "metadata": {},
   "outputs": [],
   "source": [
    "df_training_log = pd.read_csv(\"/lustre/storeB/users/arefk/MScThesis_AreKvanum2022_SeaIceML/SimpleUNET/TwoDayForecast/outputs/histories/weights_04121953.log\")"
   ]
  },
  {
   "cell_type": "code",
   "execution_count": 3,
   "metadata": {},
   "outputs": [
    {
     "data": {
      "text/html": [
       "<div>\n",
       "<style scoped>\n",
       "    .dataframe tbody tr th:only-of-type {\n",
       "        vertical-align: middle;\n",
       "    }\n",
       "\n",
       "    .dataframe tbody tr th {\n",
       "        vertical-align: top;\n",
       "    }\n",
       "\n",
       "    .dataframe thead th {\n",
       "        text-align: right;\n",
       "    }\n",
       "</style>\n",
       "<table border=\"1\" class=\"dataframe\">\n",
       "  <thead>\n",
       "    <tr style=\"text-align: right;\">\n",
       "      <th></th>\n",
       "      <th>val_loss</th>\n",
       "      <th>val_norm_iiee</th>\n",
       "    </tr>\n",
       "  </thead>\n",
       "  <tbody>\n",
       "    <tr>\n",
       "      <th>0</th>\n",
       "      <td>0.571616</td>\n",
       "      <td>41.222080</td>\n",
       "    </tr>\n",
       "    <tr>\n",
       "      <th>1</th>\n",
       "      <td>0.467734</td>\n",
       "      <td>40.496263</td>\n",
       "    </tr>\n",
       "    <tr>\n",
       "      <th>2</th>\n",
       "      <td>0.433732</td>\n",
       "      <td>38.966427</td>\n",
       "    </tr>\n",
       "    <tr>\n",
       "      <th>3</th>\n",
       "      <td>0.408893</td>\n",
       "      <td>36.253414</td>\n",
       "    </tr>\n",
       "    <tr>\n",
       "      <th>4</th>\n",
       "      <td>0.399980</td>\n",
       "      <td>35.568378</td>\n",
       "    </tr>\n",
       "    <tr>\n",
       "      <th>5</th>\n",
       "      <td>0.404394</td>\n",
       "      <td>34.807919</td>\n",
       "    </tr>\n",
       "    <tr>\n",
       "      <th>6</th>\n",
       "      <td>0.385585</td>\n",
       "      <td>35.419113</td>\n",
       "    </tr>\n",
       "    <tr>\n",
       "      <th>7</th>\n",
       "      <td>0.376256</td>\n",
       "      <td>34.867612</td>\n",
       "    </tr>\n",
       "    <tr>\n",
       "      <th>8</th>\n",
       "      <td>0.417667</td>\n",
       "      <td>34.067079</td>\n",
       "    </tr>\n",
       "    <tr>\n",
       "      <th>9</th>\n",
       "      <td>0.406344</td>\n",
       "      <td>33.569710</td>\n",
       "    </tr>\n",
       "  </tbody>\n",
       "</table>\n",
       "</div>"
      ],
      "text/plain": [
       "   val_loss  val_norm_iiee\n",
       "0  0.571616      41.222080\n",
       "1  0.467734      40.496263\n",
       "2  0.433732      38.966427\n",
       "3  0.408893      36.253414\n",
       "4  0.399980      35.568378\n",
       "5  0.404394      34.807919\n",
       "6  0.385585      35.419113\n",
       "7  0.376256      34.867612\n",
       "8  0.417667      34.067079\n",
       "9  0.406344      33.569710"
      ]
     },
     "execution_count": 3,
     "metadata": {},
     "output_type": "execute_result"
    }
   ],
   "source": [
    "df_training_log[['val_loss', 'val_norm_iiee']]"
   ]
  },
  {
   "cell_type": "code",
   "execution_count": 35,
   "metadata": {},
   "outputs": [
    {
     "name": "stdout",
     "output_type": "stream",
     "text": [
      "Using matplotlib backend: <object object at 0x7f08c38a2780>\n"
     ]
    },
    {
     "name": "stderr",
     "output_type": "stream",
     "text": [
      "libGL error: MESA-LOADER: failed to open swrast: /usr/lib64/dri/swrast_dri.so: cannot open shared object file: No such file or directory (search paths /usr/lib64/dri)\n",
      "libGL error: failed to load driver: swrast\n"
     ]
    }
   ],
   "source": [
    "plt.style.use('seaborn-paper')\n",
    "ax = df_training_log['val_loss'].plot(label = 'validation loss')\n",
    "ax2 = ax.twinx()\n",
    "lns = df_training_log['val_norm_iiee'].plot(ax = ax2, label = 'validation IIEE', color='orange')\n",
    "handles, labels = [(a + b) for a, b in zip(ax.get_legend_handles_labels(), ax2.get_legend_handles_labels())]\n",
    "plt.legend(handles, labels)\n",
    "plt.savefig('/lustre/storeB/users/arefk/MScThesis_AreKvanum2022_SeaIceML/ForecastValidation/TwoDayForecasts/figures/val_loss_IIEE.png')"
   ]
  },
  {
   "cell_type": "code",
   "execution_count": 28,
   "metadata": {},
   "outputs": [
    {
     "data": {
      "text/plain": [
       "0.8218671447221332"
      ]
     },
     "execution_count": 28,
     "metadata": {},
     "output_type": "execute_result"
    }
   ],
   "source": [
    "df_training_log['val_loss'].corr(df_training_log['val_norm_iiee'])"
   ]
  },
  {
   "cell_type": "code",
   "execution_count": null,
   "metadata": {},
   "outputs": [],
   "source": [
    "df_forecast = pd.read_csv(\"/lustre/storeB/users/arefk/MScThesis_AreKvanum2022_SeaIceML/ForecastValidation/TwoDayForecasts/Data/weights_05111353.csv\", index_col = 0)\n",
    "df_bench = pd.read_csv(\"/lustre/storeB/users/arefk/MScThesis_AreKvanum2022_SeaIceML/ForecastValidation/TwoDayForecasts/Data/weights_04111245.csv\", index_col = 0)\n",
    "df_pers = pd.read_csv(\"/lustre/storeB/users/arefk/MScThesis_AreKvanum2022_SeaIceML/ForecastValidation/TwoDayForecasts/Data/persistance.csv\", index_col = 0)"
   ]
  },
  {
   "cell_type": "code",
   "execution_count": null,
   "metadata": {},
   "outputs": [],
   "source": [
    "climatological_ice_edge = pd.read_csv(\"/lustre/storeB/users/arefk/MScThesis_AreKvanum2022_SeaIceML/verification_metrics/Data/climatological_ice_edge.csv\", index_col=0)\n",
    "climatological_ice_edge = climatological_ice_edge.drop('02-29')\n",
    "climatological_ice_edge.index = '2021-' + climatological_ice_edge.index\n",
    "climatological_ice_edge.set_index(pd.DatetimeIndex(pd.to_datetime(climatological_ice_edge.index)))\n",
    "climatological_ice_edge['ice_edge_length'] = climatological_ice_edge['ice_edge_length'] / 1000."
   ]
  },
  {
   "cell_type": "code",
   "execution_count": null,
   "metadata": {},
   "outputs": [],
   "source": [
    "df_forecast['climatological_length'] = climatological_ice_edge\n",
    "df_forecast['target_length'] = df_bench['target_length'] / 1000.\n",
    "df_bench['climatological_length'] = climatological_ice_edge\n",
    "\n",
    "df_pers['climatological_length'] = climatological_ice_edge"
   ]
  },
  {
   "cell_type": "code",
   "execution_count": null,
   "metadata": {},
   "outputs": [],
   "source": [
    "df_forecast"
   ]
  },
  {
   "cell_type": "code",
   "execution_count": null,
   "metadata": {},
   "outputs": [],
   "source": [
    "df_bench"
   ]
  },
  {
   "cell_type": "code",
   "execution_count": null,
   "metadata": {},
   "outputs": [],
   "source": [
    "df_pers"
   ]
  },
  {
   "cell_type": "code",
   "execution_count": null,
   "metadata": {},
   "outputs": [],
   "source": [
    "df_bench['IIEE'].nlargest(n=5)"
   ]
  },
  {
   "cell_type": "code",
   "execution_count": null,
   "metadata": {},
   "outputs": [],
   "source": [
    "df_forecast['IIEE'].nlargest(n=5)"
   ]
  },
  {
   "cell_type": "code",
   "execution_count": null,
   "metadata": {},
   "outputs": [],
   "source": [
    "df_pers['IIEE'].nlargest(n=5)"
   ]
  },
  {
   "cell_type": "code",
   "execution_count": null,
   "metadata": {},
   "outputs": [],
   "source": [
    "monthly_mean_bench = df_bench.groupby(pd.PeriodIndex(df_bench.index, freq=\"M\")).mean()\n",
    "monthly_mean_forecast = df_forecast.groupby(pd.PeriodIndex(df_forecast.index, freq=\"M\")).mean()\n",
    "monthly_mean_pers = df_pers.groupby(pd.PeriodIndex(df_pers.index, freq=\"M\")).mean()"
   ]
  },
  {
   "cell_type": "code",
   "execution_count": null,
   "metadata": {},
   "outputs": [],
   "source": [
    "monthly_mean_forecast"
   ]
  },
  {
   "cell_type": "code",
   "execution_count": null,
   "metadata": {},
   "outputs": [],
   "source": [
    "def plot_area(df, num_classes=7):\n",
    "    for i in range(num_classes):\n",
    "        ax = df[f'target_area{i}'].plot(label='target')\n",
    "        df[f'forecast_area{i}'].plot(ax=ax, label='forecast')\n",
    "        ax.set_title(f'SIC area for concenration class {i}')\n",
    "        plt.legend()\n",
    "        plt.show()"
   ]
  },
  {
   "cell_type": "code",
   "execution_count": null,
   "metadata": {},
   "outputs": [],
   "source": [
    "plot_area(monthly_mean_bench)"
   ]
  },
  {
   "cell_type": "code",
   "execution_count": null,
   "metadata": {},
   "outputs": [],
   "source": [
    "plot_area(monthly_mean_forecast)"
   ]
  },
  {
   "cell_type": "code",
   "execution_count": null,
   "metadata": {},
   "outputs": [],
   "source": [
    "plot_area(monthly_mean_pers)"
   ]
  },
  {
   "cell_type": "code",
   "execution_count": null,
   "metadata": {},
   "outputs": [],
   "source": [
    "ax = monthly_mean_bench['target_length'].plot(label='target')\n",
    "monthly_mean_bench['forecast_length'].plot(ax = ax, label = 'forecast', color='orange')\n",
    "plt.legend()\n",
    "plt.show()"
   ]
  },
  {
   "cell_type": "code",
   "execution_count": null,
   "metadata": {},
   "outputs": [],
   "source": [
    "ax = monthly_mean_forecast['target_length'].plot()\n",
    "monthly_mean_forecast['climatological_length'].plot(ax = ax)\n",
    "plt.show()"
   ]
  },
  {
   "cell_type": "code",
   "execution_count": null,
   "metadata": {},
   "outputs": [],
   "source": [
    "ax = monthly_mean_forecast['target_length'].plot()\n",
    "monthly_mean_forecast['forecast_length'].plot(ax = ax)\n",
    "plt.show()"
   ]
  },
  {
   "cell_type": "code",
   "execution_count": null,
   "metadata": {},
   "outputs": [],
   "source": [
    "ax = monthly_mean_pers['target_length'].plot()\n",
    "monthly_mean_pers['forecast_length'].plot(ax = ax)\n",
    "plt.show()"
   ]
  },
  {
   "cell_type": "code",
   "execution_count": null,
   "metadata": {},
   "outputs": [],
   "source": [
    "ax = (monthly_mean_bench['target_length'] - monthly_mean_bench['forecast_length']).plot(label = 'Model')\n",
    "(monthly_mean_pers['target_length'] - monthly_mean_pers['forecast_length']).plot(ax = ax, label = 'Persistance')\n",
    "(monthly_mean_forecast['target_length'] - monthly_mean_forecast['forecast_length']).plot(ax = ax, label = 'Forecast')\n",
    "plt.legend()\n",
    "plt.show()"
   ]
  },
  {
   "cell_type": "code",
   "execution_count": null,
   "metadata": {},
   "outputs": [],
   "source": [
    "ax = monthly_mean_bench['IIEE'].plot(label = 'OLD Benchmark model')\n",
    "monthly_mean_pers['IIEE'].plot(ax = ax, label = 'Persistance')\n",
    "monthly_mean_forecast['IIEE'].plot(ax = ax, label = 'Forecast')\n",
    "plt.legend()\n",
    "plt.show()"
   ]
  },
  {
   "cell_type": "code",
   "execution_count": null,
   "metadata": {},
   "outputs": [],
   "source": [
    "ax = (monthly_mean_bench['IIEE'] / monthly_mean_bench['climatological_length']).plot(label = 'OLD Benchmark model')\n",
    "(monthly_mean_pers['IIEE'] / monthly_mean_pers['climatological_length']).plot(ax = ax, label = 'Persistance')\n",
    "(monthly_mean_forecast['IIEE'] / monthly_mean_forecast['climatological_length']).plot(ax = ax, label = 'Forecast')\n",
    "plt.legend()\n",
    "plt.show()"
   ]
  },
  {
   "cell_type": "code",
   "execution_count": null,
   "metadata": {},
   "outputs": [],
   "source": [
    "df_pers.keys"
   ]
  },
  {
   "cell_type": "code",
   "execution_count": null,
   "metadata": {},
   "outputs": [],
   "source": [
    "ax = sns.heatmap(monthly_mean_pers, square=True)"
   ]
  },
  {
   "cell_type": "code",
   "execution_count": null,
   "metadata": {},
   "outputs": [],
   "source": [
    "piv"
   ]
  },
  {
   "cell_type": "code",
   "execution_count": null,
   "metadata": {},
   "outputs": [],
   "source": [
    "df_512 = pd.read_csv(\"/lustre/storeB/users/arefk/MScThesis_AreKvanum2022_SeaIceML/ForecastValidation/TwoDayForecasts/Data/unet_512.csv\", index_col = 0)\n",
    "df_512_focal = pd.read_csv(\"/lustre/storeB/users/arefk/MScThesis_AreKvanum2022_SeaIceML/ForecastValidation/TwoDayForecasts/Data/unet_512_focal.csv\", index_col = 0)"
   ]
  },
  {
   "cell_type": "code",
   "execution_count": null,
   "metadata": {},
   "outputs": [],
   "source": [
    "df_512"
   ]
  },
  {
   "cell_type": "code",
   "execution_count": null,
   "metadata": {},
   "outputs": [],
   "source": [
    "df_512_focal"
   ]
  },
  {
   "cell_type": "code",
   "execution_count": null,
   "metadata": {},
   "outputs": [],
   "source": [
    "df_512.hist('IIEE')"
   ]
  },
  {
   "cell_type": "code",
   "execution_count": null,
   "metadata": {},
   "outputs": [],
   "source": [
    "df_512_focal.hist('IIEE')"
   ]
  },
  {
   "cell_type": "code",
   "execution_count": null,
   "metadata": {},
   "outputs": [],
   "source": [
    "monthly_mean_512 = df_512.groupby(pd.PeriodIndex(df_512.index, freq=\"M\"))['IIEE'].mean()\n",
    "monthly_mean_512_focal = df_512_focal.groupby(pd.PeriodIndex(df_512_focal.index, freq=\"M\"))['IIEE'].mean()"
   ]
  },
  {
   "cell_type": "code",
   "execution_count": null,
   "metadata": {},
   "outputs": [],
   "source": [
    "ax = monthly_mean_512.plot(label='Crossentropy Loss')\n",
    "ax.set_title('IIEE for 512 model')\n",
    "ax.set_ylabel('IIEE')\n",
    "monthly_mean_512_focal.plot(ax=ax, color='red', label=\"Focal Loss\")\n",
    "fig = ax.get_figure()\n",
    "fig.legend()"
   ]
  }
 ],
 "metadata": {
  "kernelspec": {
   "display_name": "Python 3",
   "language": "python",
   "name": "python3"
  },
  "language_info": {
   "codemirror_mode": {
    "name": "ipython",
    "version": 3
   },
   "file_extension": ".py",
   "mimetype": "text/x-python",
   "name": "python",
   "nbconvert_exporter": "python",
   "pygments_lexer": "ipython3",
   "version": "3.8.8"
  },
  "orig_nbformat": 4,
  "vscode": {
   "interpreter": {
    "hash": "916dbcbb3f70747c44a77c7bcd40155683ae19c65e1c03b4aa3499c5328201f1"
   }
  }
 },
 "nbformat": 4,
 "nbformat_minor": 2
}
